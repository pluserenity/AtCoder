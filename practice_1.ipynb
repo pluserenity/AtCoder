{
  "nbformat": 4,
  "nbformat_minor": 0,
  "metadata": {
    "colab": {
      "name": "practice_1.ipynb",
      "provenance": [],
      "toc_visible": true,
      "include_colab_link": true
    },
    "kernelspec": {
      "name": "python3",
      "display_name": "Python 3"
    }
  },
  "cells": [
    {
      "cell_type": "markdown",
      "metadata": {
        "id": "view-in-github",
        "colab_type": "text"
      },
      "source": [
        "<a href=\"https://colab.research.google.com/github/pluserenity/AtCoder-practice/blob/master/practice_1.ipynb\" target=\"_parent\"><img src=\"https://colab.research.google.com/assets/colab-badge.svg\" alt=\"Open In Colab\"/></a>"
      ]
    },
    {
      "cell_type": "markdown",
      "metadata": {
        "id": "4EZtKiGw1snw",
        "colab_type": "text"
      },
      "source": [
        "# PracticeA - Welcome to AtCoder\n",
        "---\n",
        "https://atcoder.jp/contests/abs/tasks/practice_1"
      ]
    },
    {
      "cell_type": "markdown",
      "metadata": {
        "id": "YnlGY6JpCjwv",
        "colab_type": "text"
      },
      "source": [
        "## Important things\n",
        "---\n",
        "### **標準入力/出力**\n",
        "pythnon3における\n",
        "*   標準入力は、[組込関数](https://docs.python.org/ja/3/library/functions.html)である`input()`を使う\n",
        "*   標準出力は、組込関数である`print()`を使う\n",
        "\n",
        "標準入力は文字列型となるため、今回の設問のような整数値入力が必要な場合、組込関数`int()`を用いて`int(input())`とする\n",
        "\n",
        "### **`map()`関数**\n",
        "`map()`関数は以下の引数をとり、第1引数の関数を第2引数のリストに適用する。\n",
        "\n",
        "### **`split()`関数**\n",
        "*   単独の区切り文字で分割する場合は文字列（str型）のsplit()メソッドを使う\n",
        "*   引数を省略したデフォルトでは空白文字で分割する。空白文字にはスペースや改行\\n, タブ\\tが含まれ、連続する空白文字はまとめて処理される。\n",
        "\n",
        "\n"
      ]
    },
    {
      "cell_type": "code",
      "metadata": {
        "id": "nWNhfJEzID6V",
        "colab_type": "code",
        "colab": {
          "base_uri": "https://localhost:8080/",
          "height": 85
        },
        "outputId": "dbab8b91-5045-42fd-aa97-9b1706714320"
      },
      "source": [
        "s_blank = 'one two     three\\nfour\\tfive'\n",
        "print(s_blank)\n",
        "print(s_blank.split())\n",
        "print(type(s_blank.split()))"
      ],
      "execution_count": 5,
      "outputs": [
        {
          "output_type": "stream",
          "text": [
            "one two     three\n",
            "four\tfive\n",
            "['one', 'two', 'three', 'four', 'five']\n",
            "<class 'list'>\n"
          ],
          "name": "stdout"
        }
      ]
    },
    {
      "cell_type": "markdown",
      "metadata": {
        "id": "CQPrFneuEZln",
        "colab_type": "text"
      },
      "source": [
        "##solved\n",
        "---"
      ]
    },
    {
      "cell_type": "code",
      "metadata": {
        "id": "O7zcnsJb0jCB",
        "colab_type": "code",
        "colab": {
          "base_uri": "https://localhost:8080/",
          "height": 85
        },
        "outputId": "5c9ee11e-f5d7-4721-eb2c-9f9898e5796e"
      },
      "source": [
        "a = int(input())\n",
        "b, c = map(int, input().split())\n",
        "s = input()\n",
        "print('{} {}'.format(a+b+c, s))"
      ],
      "execution_count": 3,
      "outputs": [
        {
          "output_type": "stream",
          "text": [
            "10\n",
            "23 43\n",
            "hoge\n",
            "33 hoge\n"
          ],
          "name": "stdout"
        }
      ]
    }
  ]
}